{
 "cells": [
  {
   "cell_type": "code",
   "execution_count": 12,
   "metadata": {},
   "outputs": [],
   "source": [
    "%reload_ext autoreload\n",
    "%autoreload 2\n",
    "%matplotlib inline\n",
    "import simple_binary_image_classifier as bc"
   ]
  },
  {
   "cell_type": "code",
   "execution_count": 13,
   "metadata": {},
   "outputs": [],
   "source": [
    "PATH = \"d:/standing/\""
   ]
  },
  {
   "cell_type": "code",
   "execution_count": 14,
   "metadata": {},
   "outputs": [],
   "source": [
    "model1000 = bc.BinaryClassifier(PATH)\n",
    "model1000.set_precompute(False)"
   ]
  },
  {
   "cell_type": "code",
   "execution_count": 15,
   "metadata": {},
   "outputs": [],
   "source": [
    "model1000.learn.load(\"model1000\")"
   ]
  },
  {
   "cell_type": "code",
   "execution_count": 16,
   "metadata": {},
   "outputs": [],
   "source": [
    "#http://forums.fast.ai/t/how-do-we-use-our-model-against-a-specific-image/7661/3\n",
    "trn_tfms, val_tfms = model1000.tfms"
   ]
  },
  {
   "cell_type": "code",
   "execution_count": 115,
   "metadata": {},
   "outputs": [],
   "source": [
    "pred_dir = \"\" #Directory with images to predict\n",
    "dest0 = \"d:/results/0\"\n",
    "dest1 = \"d:/results/1\""
   ]
  },
  {
   "cell_type": "code",
   "execution_count": 116,
   "metadata": {},
   "outputs": [],
   "source": [
    "pred_files = bc.path(pred_dir).files()\n",
    "for f in pred_files:\n",
    "    try:\n",
    "        bc.open_image(f)\n",
    "    except Exception:\n",
    "        f.remove()\n",
    "pred_files = bc.path(pred_dir).files()\n",
    "ds = bc.FilesIndexArrayDataset(pred_files, bc.np.zeros(len(pred_files)), val_tfms, PATH)\n",
    "dl = bc.DataLoader(ds)\n",
    "log_preds = model1000.learn.predict_dl(dl)\n",
    "preds = bc.np.exp(log_preds)"
   ]
  },
  {
   "cell_type": "code",
   "execution_count": 117,
   "metadata": {},
   "outputs": [],
   "source": [
    "results = bc.np.argmax(preds, axis=1)"
   ]
  },
  {
   "cell_type": "code",
   "execution_count": 118,
   "metadata": {},
   "outputs": [],
   "source": [
    "for i in range(0, len(results)):\n",
    "    if results[i] == 0:\n",
    "        pred_files[i].copy(dest0)\n",
    "    else:\n",
    "        pred_files[i].copy(dest1)"
   ]
  },
  {
   "cell_type": "code",
   "execution_count": null,
   "metadata": {},
   "outputs": [],
   "source": []
  }
 ],
 "metadata": {
  "kernelspec": {
   "display_name": "fastAI custom",
   "language": "python",
   "name": "fastai"
  },
  "language_info": {
   "codemirror_mode": {
    "name": "ipython",
    "version": 3
   },
   "file_extension": ".py",
   "mimetype": "text/x-python",
   "name": "python",
   "nbconvert_exporter": "python",
   "pygments_lexer": "ipython3",
   "version": "3.6.4"
  }
 },
 "nbformat": 4,
 "nbformat_minor": 2
}
